{
 "cells": [
  {
   "cell_type": "markdown",
   "metadata": {},
   "source": [
    "\n",
    "# Determinação de órbita\n",
    "\n",
    "Luan Henrique Glasser\n",
    "\n",
    "Professor Hélio Kuga\n",
    "\n",
    "Introdução à Mecânica Celeste, lista de exercícios 2\n",
    "\n",
    "## Importar bibliotecas\n",
    "\n",
    "As bibliotecas utilizadas são:\n",
    "\n",
    "* Numpy\n",
    "* Matplotlib\n",
    "* Math"
   ]
  },
  {
   "cell_type": "code",
   "execution_count": 2,
   "metadata": {},
   "outputs": [],
   "source": [
    "# Importar bibliotecas\n",
    "import numpy as np\n",
    "import matplotlib.pyplot as plt\n",
    "from math import *"
   ]
  },
  {
   "cell_type": "markdown",
   "metadata": {},
   "source": [
    "## Problema 1\n",
    "\n",
    "Construir as seguintes 3 rotinas:\n",
    "\n",
    "1.  dados longitude, latitude, altitude da estação de rastreamento, azimute, elevação e distância, computar o vetor de posição geocêntrico equatorial terrestre correspondente;\n",
    "2.  dado o tempo sideral de Greenwich e o vetor de posição equatorial geocêntrico terrestre, computar o vetor de posição equatorial geocêntrico inercial;\n",
    "3. dados 3 vetores de posição inerciais, computar o teste de co-planaridade, N, D, S e os 3 vetores de velocidade inerciais.\n",
    "\n",
    "### Solução\n",
    "\n",
    "Para resolver o problema 1.1, uma função que calcula o vetor posição no sistema geocêntrico equatorial terrestre (GET) a partir de coordenadas topocêntricas e parâmetros relacionados é desenvolvida. O descritivo da função contém detalhes sobre seu funcionamento, entradas e saídas. Isso é feito com todas as funções não triviais apresentadas neste trabalho."
   ]
  },
  {
   "cell_type": "code",
   "execution_count": 3,
   "metadata": {},
   "outputs": [
    {
     "data": {
      "text/plain": [
       "array([[1.        ],\n",
       "       [1.        ],\n",
       "       [1.41421356]])"
      ]
     },
     "execution_count": 3,
     "metadata": {},
     "output_type": "execute_result"
    }
   ],
   "source": [
    "# Função para transformar coordenadas topocêntricas (T) em geocêntricas equatoriais terrestres (GET)\n",
    "def topo2get(lamb, phi, R_estacao, A, h, rho):\n",
    "    '''\n",
    "    Função topo2get (topocêntrico to [para] geocêntrico equatorial terrestre)\n",
    "    Entrada: lamb (longitude, graus), phi (latitude, graus), R_estacao (raio da estação, km), \n",
    "               A (azimute, graus), h (elevação, graus), rho (distância do satélite, km).\n",
    "    Saída: Vetor posição GET.\n",
    "    Teste: \n",
    "        in -> lamb = 45., phi = 45., R_estacao = 1., A = 180., h = 90., rho = 1.\n",
    "        out -> array([[1.        ],\n",
    "                      [1.        ],\n",
    "                      [1.41421356]])\n",
    "    '''\n",
    "\n",
    "    # Transformar ângulos de graus para radianos\n",
    "    lamb = np.deg2rad(lamb)\n",
    "    phi = np.deg2rad(phi)\n",
    "    A = np.deg2rad(A)\n",
    "    h = np.deg2rad(h)\n",
    "\n",
    "    # Posição da estação no sistema GET\n",
    "    rg = np.array([[cos(phi)*cos(lamb)], [cos(phi)*sin(lamb)], [sin(phi)]])*R_estacao\n",
    "\n",
    "    # Posição no sistema topocêntrico\n",
    "    rho_t = np.array([[-cos(h)*cos(A)], [cos(h)*sin(A)], [sin(h)]])*rho\n",
    "\n",
    "    # Matriz de rotação do sistema topocêntrico para o get\n",
    "    Rgt = np.array([[sin(phi)*cos(lamb), -sin(lamb), cos(phi)*cos(lamb)], \n",
    "                    [sin(phi)*sin(lamb), cos(lamb), cos(phi)*sin(lamb)], \n",
    "                    [-cos(phi), 0, sin(phi)]])\n",
    "\n",
    "    # Cálculo de rho no sistema GET\n",
    "    rho_g = Rgt.dot(rho_t)\n",
    "\n",
    "    # Soma da posição da estação e do satélite em GET\n",
    "    xg = rg + rho_g\n",
    "\n",
    "    return xg\n",
    "\n",
    "# Teste da função\n",
    "topo2get(lamb = 45., phi = 45., R_estacao = 1., A = 180., h = 90., rho = 1.)"
   ]
  },
  {
   "cell_type": "markdown",
   "metadata": {},
   "source": [
    "Com a função topo2get, é possível obter o vetor posição no sistema GET. A partir deste novo vetor, podemos calcular a posição no sistema geocêntrico equatorial celeste (GEC), o que é relizado pela função a seguir."
   ]
  },
  {
   "cell_type": "code",
   "execution_count": 4,
   "metadata": {},
   "outputs": [
    {
     "data": {
      "text/plain": [
       "array([[0.        ],\n",
       "       [1.41421356],\n",
       "       [1.        ]])"
      ]
     },
     "execution_count": 4,
     "metadata": {},
     "output_type": "execute_result"
    }
   ],
   "source": [
    "# Função para transformar coordenadas geocêntricas equatoriais terrestres (GET) \n",
    "# em geocêntricas equatoriais celestes (GEC)\n",
    "def get2gec(xg, theta_g):\n",
    "    '''\n",
    "    Função get2gec (geocêntrico equatorial terrestre to [para] geocêntrico equatorial celeste)\n",
    "    Entrada: xg (vetor posição em get, km), theta_g (tempo sideral de Greenwich, graus)\n",
    "    Saída: Vetor posição GEC.\n",
    "    Teste: \n",
    "        in -> array([[ 1.],\n",
    "                     [ 1.],\n",
    "                     [1.]])\n",
    "        out -> array([[1.11022302e-16],\n",
    "                      [1.41421356e+00],\n",
    "                      [1.00000000e+00]])\n",
    "\n",
    "    '''\n",
    "\n",
    "    # Transformar ângulo de graus para radianos\n",
    "    theta_g = -np.deg2rad(theta_g)\n",
    "\n",
    "    # Matriz de rotação do sistema topocêntrico para o get\n",
    "    Rig = np.array([[cos(theta_g), sin(theta_g), 0], \n",
    "                    [-sin(theta_g), cos(theta_g), 0], \n",
    "                    [0, 0, 1]])\n",
    "\n",
    "    # Cálculo da posição no sistema get\n",
    "    xi = Rig.dot(xg)\n",
    "\n",
    "    return xi\n",
    "\n",
    "# Teste da função\n",
    "get2gec(xg = np.array([[1.], [1.], [1.]]), theta_g = 45.)"
   ]
  },
  {
   "cell_type": "markdown",
   "metadata": {},
   "source": [
    "Abaixo, o método de Gibbs para determinação de órbita a partir de 3 vetores posição inerciais é implementado."
   ]
  },
  {
   "cell_type": "code",
   "execution_count": 5,
   "metadata": {},
   "outputs": [
    {
     "data": {
      "text/plain": [
       "(array([-6.35593652, -3.34964173,  2.63379275]),\n",
       " array([-6.2175975 , -4.01237484,  1.59914918]),\n",
       " array([-5.68541299e+00, -4.77226474e+00, -3.52317834e-03]),\n",
       " -4.7449735221943845e-06)"
      ]
     },
     "execution_count": 5,
     "metadata": {},
     "output_type": "execute_result"
    }
   ],
   "source": [
    "# Função para calcular 3 vetores de velocidade inerciais a partir de 3 vetores \n",
    "# posição inerciais\n",
    "def gibbs(r1, r2, r3, normalizador = 36000, tol = 1e-5, cop = False):\n",
    "    '''\n",
    "    Função gibbs: aplica o método de Gibbs para obter 3 vetores velocidade \n",
    "    a partir de 3 vetores posição inerciais\n",
    "    Entrada: r1, r2, r3 (vetores posição inerciais, km); normalizador (fator\n",
    "    de normalização, padrão = 36000 km);\n",
    "             tol (erro aceitável para o teste de coplanaridade, padrão = 1e-5),\n",
    "             cop (retorna a coplanaridade, padrão = False)\n",
    "    Saída: v1, v2, v3 (vetores velocidade, km/s)\n",
    "    Teste (Algoritmo 5.1 do livro Orbital Mechanics for Engineering Students \n",
    "    de Curtis (2005)):\n",
    "        in -> r1 = np.array([-294.32, 4265.1, 5986.7])\n",
    "              r2 = np.array([-1365.4, 3637.6, 6346.8])\n",
    "              r3 = np.array([-2940.3, 2473.7, 6555.8])\n",
    "        out -> v1 = np.array([-6.35593652, -3.34964173,  2.63379275]),\n",
    "               v2 = np.array([-6.2175975 , -4.01237484,  1.59914918]),\n",
    "               v3 = np.array([-5.68541299e+00, -4.77226474e+00, -3.52317834e-03]),\n",
    "               coplanaridade = -4.230757236830275e-08\n",
    "    '''\n",
    "    # Parâmetro gravitacional [km^3/s^2]\n",
    "    mu = 3.986e5#/normalizador\n",
    "\n",
    "    # Normalizar vetores\n",
    "    r1_norm = r1/np.linalg.norm(r1)\n",
    "    r2_norm = r2/np.linalg.norm(r2)\n",
    "    r3_norm = r3/np.linalg.norm(r3)\n",
    "\n",
    "    # Verificação de coplanaridade\n",
    "    coplanaridade = np.dot(r1_norm, np.cross(r2_norm, r3_norm))\n",
    "    if not ((abs(coplanaridade) <= tol)):\n",
    "        print('Vetores não coplanares!')\n",
    "        print('Coplanaridade =', coplanaridade)\n",
    "    \n",
    "    # Cálculo de D\n",
    "    D = np.cross(r1, r2) + np.cross(r2, r3) + np.cross(r3, r1)\n",
    "    D_norm = np.linalg.norm(D)\n",
    "\n",
    "    # Cálculo de N\n",
    "    R1 = np.linalg.norm(r1)\n",
    "    R2 = np.linalg.norm(r2)\n",
    "    R3 = np.linalg.norm(r3)\n",
    "    N = R3*np.cross(r1, r2) + R1*np.cross(r2, r3) + R2*np.cross(r3, r1)\n",
    "    N_norm = np.linalg.norm(N)\n",
    "\n",
    "    # Cálculo D.N\n",
    "    DN = np.dot(D, N)\n",
    "\n",
    "    # Verificação de D e N diferentes de zero e D.N > 0\n",
    "    if (DN > 0.):\n",
    "        for i in range(3):\n",
    "            if not ((D[i] != 0.) & (N[i] != 0.)):\n",
    "                print('D{} = {} e N{} = {}. D ou N é 0!'.format(i, D[i], i, N[i]))\n",
    "    else:\n",
    "        print('D.N = {}. Revise D.N.'.format(DN))    \n",
    "\n",
    "    # Cálculo de S\n",
    "    S = (R2 - R3)*r1 + (R3 - R1)*r2 + (R1 - R2)*r3\n",
    "\n",
    "    # Cálculo de L\n",
    "    L = sqrt(mu/(N_norm*D_norm))\n",
    "\n",
    "    # Calcular os vetores B e de velocidade\n",
    "    R = [r1, r2, r3]\n",
    "    V = []\n",
    "    for r in R:\n",
    "        B = np.cross(D, r)\n",
    "        v = L*(B/np.linalg.norm(r) + S)\n",
    "        V.append(v)\n",
    "\n",
    "    if cop:\n",
    "        return V[0], V[1], V[2], coplanaridade\n",
    "    else:\n",
    "        return V[0], V[1], V[2]\n",
    "\n",
    "# Vetores posição de teste\n",
    "r1 = np.array([-294.32, 4265.1, 5986.7])\n",
    "r2 = np.array([-1365.4, 3637.6, 6346.8])\n",
    "r3 = np.array([-2940.3, 2473.7, 6555.8])\n",
    "\n",
    "# Teste da função e cálculo dos vetores velocidade\n",
    "gibbs(r1, r2, r3, cop = True)"
   ]
  },
  {
   "cell_type": "markdown",
   "metadata": {},
   "source": [
    "## Problema 2\n",
    "\n",
    "Considere as linhas 13, 16 e 19 mostradas abaixo. Determine a órbita com o método de Gibbs.\n",
    "\n",
    "| Registro |    Data    | Tempo UTC |   X (km)   |    Y (km)   |    Z (km)    |\n",
    "|:--------:|:----------:|:---------:|:----------:|:-----------:|:------------:|\n",
    "|    13    | 12/02/2015 |  22:02:00 | 306,724888 | 7124,020755 | -2973,433706 |\n",
    "|    16    | 12/02/2015 |  22:02:30 | 215,181698 | 7199,759269 | -2793,665364 |\n",
    "|    19    | 12/02/2015 |  22:03:00 | 123,471028 | 7269,894903 | -2611,718171 |\n",
    "\n",
    "### Cálculo dos 3 vetores de velocidade\n",
    "\n",
    "Com os vetores posição das linhas 13, 16 e 19, a função gibbs pode ser aplicada para se determinar os vetores velocidade correspondentes. Isso é feito a seguir e retorna 3 vetores velocidade em km/s."
   ]
  },
  {
   "cell_type": "code",
   "execution_count": 6,
   "metadata": {},
   "outputs": [
    {
     "name": "stdout",
     "output_type": "stream",
     "text": [
      "[-3.04689101  2.61652358  5.95251968] \n",
      " [-3.05360254  2.43073708  6.02735127] \n",
      " [-3.05793712  2.24305639  6.09749178]\n"
     ]
    }
   ],
   "source": [
    "# Vetores posição [km]\n",
    "r1 = np.array([306.724888, 7124.020755, -2973.433706])\n",
    "r2 = np.array([215.181698, 7199.759269, -2793.665364])\n",
    "r3 = np.array([123.471028, 7269.894903, -2611.718171])\n",
    "\n",
    "# Cálculo dos vetores de velocidade\n",
    "v1, v2, v3 = gibbs(r1, r2, r3)\n",
    "\n",
    "# Resultados de velocidade\n",
    "print(v1, '\\n', v2, '\\n', v3)"
   ]
  },
  {
   "cell_type": "markdown",
   "metadata": {},
   "source": [
    "### Construindo uma função para obter os elementos keplerianos\n",
    "\n",
    "Dado um vetor posição e um vetor velocidade, obtidos na seção anterior, é possível calcular os elementos keplerianos. A função a seguir realiza esta operação."
   ]
  },
  {
   "cell_type": "code",
   "execution_count": 7,
   "metadata": {},
   "outputs": [
    {
     "data": {
      "text/plain": [
       "(8788.07577819106,\n",
       " 0.1712106596145172,\n",
       " 153.2492285182475,\n",
       " 255.27928533439618,\n",
       " 20.068060711383524,\n",
       " 28.445884245813957)"
      ]
     },
     "execution_count": 7,
     "metadata": {},
     "output_type": "execute_result"
    }
   ],
   "source": [
    "# Função para cálculo dos elementos keplerianos\n",
    "def elementos_keplerianos(r, v):\n",
    "    '''\n",
    "    Cálculo dos elementos keplerianos a partir do vetor posição r e vetor velocidade v\n",
    "    Entrada: r (vetor posição, km), v (vetor velocidade, km/s)\n",
    "    Saída: a (semieixo maior, km), e (excentricidade), i (inclinação, graus), \n",
    "           Omega (ascensão reta do nodo ascendente, graus), omega (argumento \n",
    "           do perigeu, graus), \n",
    "           f (anomalia verdadeira, graus)\n",
    "    Teste (Algoritmo 5.1 do livro Orbital Mechanics for Engineering Students de\n",
    "    Curtis (2005)):\n",
    "        in -> r = np.array([-6045, -3490, 2500])\n",
    "              v = np.array([-3.457, 6.618, 2.533])\n",
    "        out -> \n",
    "            (8788.095117377658, # a\n",
    "            0.1712123462844537, # e\n",
    "            153.2492285182475, # i\n",
    "            255.27928533439618, # Omega\n",
    "            20.06831665058256, # omega\n",
    "            28.445628306614942) # f\n",
    "    '''\n",
    "    # Parâmetro gravitacional [km^3/s^2]\n",
    "    mu = 398600.64\n",
    "\n",
    "    # Normas dos vetores posição e velocidade\n",
    "    R = np.linalg.norm(r)\n",
    "    V = np.linalg.norm(v)\n",
    "\n",
    "    # Cálculo da velocidade radial\n",
    "    Vr = np.dot(v, r)/R\n",
    "\n",
    "    # Cálculo do momento angular específico\n",
    "    h = np.cross(r, v)\n",
    "\n",
    "    # Cálculo da norma do momento angular\n",
    "    h_norm = np.linalg.norm(h)\n",
    "\n",
    "    # Cálculo da inclinação\n",
    "    i = acos(h[2]/h_norm)\n",
    "\n",
    "    # Cálculo do vetor dos nodos\n",
    "    K = np.array([0, 0, 1])\n",
    "    N = np.cross(K, h)\n",
    "    N_norm = np.linalg.norm(N)\n",
    "    Omega = acos(N[0]/N_norm)\n",
    "    if N[1] < 0.:\n",
    "        Omega = 2*pi - Omega\n",
    "    \n",
    "    # Cálculo do vetor excentricidade\n",
    "    e_vet = (1/mu)*((V**2 - mu/R)*r - np.dot(r, v)*v)\n",
    "    e = np.linalg.norm(e_vet)\n",
    "\n",
    "    # Cálculo do argumento do perigeu\n",
    "    omega = acos(np.dot(N, e_vet)/(N_norm*e))\n",
    "    if e_vet[2] < 0.:\n",
    "        omega = 2*pi - omega\n",
    "    \n",
    "    # Cálculo da anomalia verdadeira\n",
    "    f = acos(np.dot(e_vet, r)/(e*R))\n",
    "    if Vr < 0.:\n",
    "        omega = 2*pi - omega\n",
    "    \n",
    "    # Cálculo do semieixo maior\n",
    "    rp = (h_norm**2/mu)*(1/(1 + e*cos(0.)))\n",
    "    ra = (h_norm**2/mu)*(1/(1 + e*cos(pi)))\n",
    "    a = 0.5*(rp + ra)\n",
    "\n",
    "    return a, e, np.rad2deg(i), np.rad2deg(Omega), np.rad2deg(omega), np.rad2deg(f) \n",
    "    \n",
    "# Teste da função de cálculo de elementos Keplerianos\n",
    "r = np.array([-6045, -3490, 2500])\n",
    "v = np.array([-3.457, 6.618, 2.533])\n",
    "\n",
    "# Teste da função e cálculo dos elementos kepleriados\n",
    "elementos_keplerianos(r, v)"
   ]
  },
  {
   "cell_type": "markdown",
   "metadata": {},
   "source": [
    "Desta maneira, agora é possível utilizar uma dupla de vetores ($r_i$, $v_i$), daqueles que foram calculados anteriormente, para obter os elementos keplerianos da órbita. Supondo que sejam utilizados os vetores ($r_2$, $v_2$), o resultado mostrado abaixo pode ser obtido."
   ]
  },
  {
   "cell_type": "code",
   "execution_count": 8,
   "metadata": {},
   "outputs": [
    {
     "name": "stdout",
     "output_type": "stream",
     "text": [
      "a = 7721.008998746782 km\n",
      "e = 0.0006228337323487257\n",
      "i = 66.06319342423907 graus\n",
      "Omega = 98.20205134946619 graus\n",
      "omega = 165.4119591093449 graus\n",
      "f = 171.28272882526957 graus\n"
     ]
    }
   ],
   "source": [
    "# Cálculo dos elementos keplerianos a partir de r2 e v2\n",
    "\n",
    "# Definição dos vetores\n",
    "r = r2\n",
    "v = v2\n",
    "\n",
    "# Cálculo dos elementos keplerianos\n",
    "a, e, i, Omega, omega, f = elementos_keplerianos(r, v)\n",
    "\n",
    "# Plot dos valores calculados para os elementos orbitais\n",
    "print('a =', a, 'km')\n",
    "print('e =', e)\n",
    "print('i =', i, 'graus')\n",
    "print('Omega =', Omega, 'graus')\n",
    "print('omega =', omega, 'graus')\n",
    "print('f =', f, 'graus')\n",
    "\n",
    "# Armazenando os valores calculados dos elementos keplerianos em um vetor\n",
    "array_elementos = np.array([a, e, i, Omega, omega])"
   ]
  },
  {
   "cell_type": "markdown",
   "metadata": {},
   "source": [
    "### Obtenção dos elementos keplerianos às 22:01:30 UTC\n",
    "\n",
    "Para calcular os elementos keplerianos às 22:01:30 UTC é possível seguir por dois caminhos. \n",
    "\n",
    "1. Aplicando a equação de Kepler.\n",
    "2. Integrando a órbita até o momento desejado e calculando os elementos keplerianos.\n",
    "\n",
    "Os dois métodos serão aplicados a seguir.\n",
    "\n",
    "#### Método 1: aplicando a equação de Kepler\n",
    "\n",
    "Entre 22:01:30 UTC e 22:02:30 UTC há 60 s, tal que o intervalo do momento atual para o passado é $\\Delta$t = -60 s.\n",
    "\n",
    "O movimento médio pode ser calculado por"
   ]
  },
  {
   "cell_type": "code",
   "execution_count": 9,
   "metadata": {},
   "outputs": [
    {
     "name": "stdout",
     "output_type": "stream",
     "text": [
      "Movimento médio = 0.0009305882384416919 rad/s\n"
     ]
    }
   ],
   "source": [
    "# Cálculo do movimento médio\n",
    "mu = 3.986e5 # parâmetro gravitacional, km^3/s^2\n",
    "n = (mu/a**3)**0.5 # movimento médio, rad/s\n",
    "print('Movimento médio =', n, 'rad/s')"
   ]
  },
  {
   "cell_type": "markdown",
   "metadata": {},
   "source": [
    "No instante de tempo atual, a anomalia média $M$ é diferente de zero. Seu valor pode ser calculado por:"
   ]
  },
  {
   "cell_type": "code",
   "execution_count": 10,
   "metadata": {},
   "outputs": [
    {
     "name": "stdout",
     "output_type": "stream",
     "text": [
      "Anomalia média no instante de tempo atual = 171.28273049007544 graus\n"
     ]
    }
   ],
   "source": [
    "# Função para cálculo da anomalia excêntrica a partir da verdadeira\n",
    "def f2u(f, e):\n",
    "    f = np.deg2rad(f)\n",
    "    u = 2*atan((((1 - e)/(1 + e))*(tan(f/2))**2)**(1/2))\n",
    "    return np.rad2deg(u)\n",
    "\n",
    "# Cálculo da excêntrica no instante atual \n",
    "u_atual = f2u(f, e)\n",
    "\n",
    "# Função para cálculo da anomalia média a partir de u\n",
    "def u2M(u, e):\n",
    "    u = np.deg2rad(u)\n",
    "    M = u + e*sin(u)\n",
    "    return np.rad2deg(M)\n",
    "\n",
    "# Cálculo da anomalia média no instante atual\n",
    "M_atual = u2M(u_atual, e)\n",
    "print('Anomalia média no instante de tempo atual =', M_atual, 'graus')"
   ]
  },
  {
   "cell_type": "markdown",
   "metadata": {},
   "source": [
    "A anomalia média no instante passado pode ser obtida por"
   ]
  },
  {
   "cell_type": "code",
   "execution_count": 11,
   "metadata": {},
   "outputs": [
    {
     "name": "stdout",
     "output_type": "stream",
     "text": [
      "Anomalia média no instante de tempo passado = 168.08360377844207 graus\n"
     ]
    }
   ],
   "source": [
    "# Cálculo da anomalia média\n",
    "Delta_t = -60 # intevalo de tempo entre o instante calculado e o desejado, s\n",
    "M = np.rad2deg(np.deg2rad(M_atual) + n*Delta_t) # Equação de kepler\n",
    "print('Anomalia média no instante de tempo passado =', M, 'graus')"
   ]
  },
  {
   "cell_type": "markdown",
   "metadata": {},
   "source": [
    "A anomalia verdadeira do instante desejado pode ser obtida conforme demonstrado abaixo."
   ]
  },
  {
   "cell_type": "code",
   "execution_count": 12,
   "metadata": {},
   "outputs": [
    {
     "name": "stdout",
     "output_type": "stream",
     "text": [
      "Anomalia verdadeira no instante passado = 168.09832964462194 graus\n"
     ]
    }
   ],
   "source": [
    "# Função para encontrar a raíz da equação de Kepler se utilizando do método de Newton-Raphson\n",
    "def eq_kepler(M, e, tol = 1e-4):\n",
    "\n",
    "    M = np.deg2rad(M) # transformar M em radianos\n",
    "    teste = 1. # variável de teste para o método de Newton-Raphson\n",
    "    u = M # estimativa inicial para u\n",
    "    i = 0 # contador\n",
    "\n",
    "    # Loop para calcular u\n",
    "    while teste > tol and i < 1000: # itera até que a tolerância ou o máximo de passos sejam atingidos\n",
    "        u_anterior = u # armazena u em u_anterior e libera a variável u para uso\n",
    "        u = u - (u - e*sin(u) - M)/(1 - e*cos(u)) # aplica a fórmula de Newton-Raphson\n",
    "        i +=1 # atualiza o contador\n",
    "        teste = abs(u - u_anterior) # atualiza a variável de teste\n",
    "\n",
    "    return np.rad2deg(u)\n",
    "\n",
    "# Função para cálculo da anomalia excêntrica\n",
    "def u2f(u, e):\n",
    "    u = np.deg2rad(u)\n",
    "    f = 2*atan( ( ((1 + e)/(1 - e)) * (tan(u/2))**2 )**(1/2) )\n",
    "    return np.rad2deg(f)\n",
    "\n",
    "# Função para calcular a anomalia verdadeira a partir da anomalia média\n",
    "def M2f(M, e, tol = 1e-4):  \n",
    "\n",
    "    # Determinar u a partir de M\n",
    "    u = eq_kepler(M, e)\n",
    "\n",
    "    # Determinar f a partir de u\n",
    "    f = u2f(u, e)\n",
    "\n",
    "    return f\n",
    "\n",
    "f_passado = M2f(M, e)\n",
    "\n",
    "print('Anomalia verdadeira no instante passado =', f_passado, 'graus')"
   ]
  },
  {
   "cell_type": "markdown",
   "metadata": {},
   "source": [
    "#### Método 2: propagando a órbita e recalculando com o método de Gibbs\n",
    "\n",
    "Em primeiro lugar, é necessário um integrador numérico que faça uma propagação *backwards*. O código de um Runge-Kutta de 4a ordem com esta capacidade, programado pelo autor, pode ser encontrado a seguir."
   ]
  },
  {
   "cell_type": "code",
   "execution_count": 13,
   "metadata": {},
   "outputs": [],
   "source": [
    "# Integrador numérico Runge-Kutta\n",
    "def runge_kutta_4o(eq, x0, t0, tf, dt):\n",
    "    '''\n",
    "    Integrador numérico Runge Kutta de 4a ordem\n",
    "    \n",
    "    Função:\n",
    "    runge_kutta_4o(eq, x0, t0, tf, dt)\n",
    "    \n",
    "    Parâmetros:\n",
    "    eq -> função da equação a ser integrada\n",
    "    x0 -> [np.array, ex.: x0 = np.array([0., 1.]) ou x0 = np.array([0.])] estado inicial \n",
    "    t0 -> [float] tempo inicial\n",
    "    tf -> [float] tempo final\n",
    "    dt -> [float] passo de integração\n",
    "    \n",
    "    Integrações:\n",
    "    Para foward propagation: use tf > t0\n",
    "    Para backward propagation: use tf < t0\n",
    "    \n",
    "    Atenção:\n",
    "    t0 == tf gera um array vazio\n",
    "    '''\n",
    "\n",
    "    # Função para dar um passo de integração do Runge Kutta 4a ordem\n",
    "    def passo(eq, x, t, dt):\n",
    "        k1 = dt*eq(x, t) \n",
    "        k2 = dt*eq(x + 0.5 * k1, t + 0.5 * dt) \n",
    "        k3 = dt*eq(x + 0.5 * k2, t + 0.5 * dt) \n",
    "        k4 = dt*eq(x + k3, t + dt) \n",
    "        x = x + (1.0 / 6.0)*(k1 + 2 * k2 + 2 * k3 + k4)\n",
    "        t = t + dt\n",
    "        return x, t\n",
    "    \n",
    "    # Arrays de resultados\n",
    "    x_array = np.empty((0, len(x0)))\n",
    "    t_array = np.array([])\n",
    "    \n",
    "    # Atribuindo a x \n",
    "    x = x0\n",
    "\n",
    "    # Verificando se t0 > tf\n",
    "    # Se verdadeiro, atribui a t o tf e troca t0 por tf\n",
    "    # também deixa o passo de integração negativo para o backward\n",
    "    if t0 > tf:\n",
    "        t = t0\n",
    "        t0 = tf\n",
    "        tf = t\n",
    "        dt = -dt\n",
    "    else:\n",
    "        t = t0\n",
    "        \n",
    "    # Check de tempo inicial igual ao final\n",
    "    tempo_final_diferente_inicial = True\n",
    "    if tf == t0:\n",
    "        tf = tf + dt \n",
    "        tempo_final_diferente_inicial = False\n",
    "        print('ATENÇÃO: tempo final igual ao inicial.')\n",
    "        \n",
    "    # Número de iterações para integração\n",
    "    n = abs(int((abs(tf) - abs(t0))/abs(dt)))\n",
    "    \n",
    "    # Laço para integrar as equações\n",
    "    for i in range(n):\n",
    "        x, t = passo(eq, x, t, dt)\n",
    "    \n",
    "        # Atualizar arrays de resultados \n",
    "        x_array = np.append(x_array, [x], axis = 0)\n",
    "        t_array = np.append(t_array, t)\n",
    "        \n",
    "    # Se o passo de integração for negativo\n",
    "    # isto é, se a integração é backwards,\n",
    "    # inverte o vetor de tempo\n",
    "    if dt < 0.0:\n",
    "        t_array = np.flip(t_array)\n",
    "    \n",
    "    # Se o sistema tem apenas um estado, tornar flat o vetor de resultados\n",
    "    # Por exemplo: de [[0], [1]] para [0, 1]\n",
    "    if len(x0) == 1 and tempo_final_diferente_inicial and x0.size > 0:\n",
    "        x_array = x_array.reshape(len(x_array), )\n",
    "    \n",
    "    return x_array, t_array"
   ]
  },
  {
   "cell_type": "markdown",
   "metadata": {},
   "source": [
    "A função com as equações da dinâmica orbital é escrita abaixo."
   ]
  },
  {
   "cell_type": "code",
   "execution_count": 14,
   "metadata": {},
   "outputs": [],
   "source": [
    "# Função com as equações da dinâmica orbital\n",
    "def eq(x, t):\n",
    "    \n",
    "    mu = 3.986e5 # km^3/s^2, parâmetro gravitacional\n",
    "\n",
    "    # Separar o vetor de estado em posição e velocidade\n",
    "    r = x[0:3] # km, coordenadas de posição\n",
    "    v = x[3:] # km/s, coordenadas de velocidade\n",
    "    \n",
    "    # Estabelecendo os vínculos dinâmicos\n",
    "    drdt = v\n",
    "    dvdt = -mu*r/(np.linalg.norm(r)**3)\n",
    "    \n",
    "    # Montando o vetor de estados\n",
    "    dxdt = np.append(drdt, dvdt)\n",
    "\n",
    "    return dxdt"
   ]
  },
  {
   "cell_type": "markdown",
   "metadata": {},
   "source": [
    "Para observar o funcionamento do integrador, a órbita inteira será integrada. A integração e o gráfico da órbita são mostrados abaixo."
   ]
  },
  {
   "cell_type": "code",
   "execution_count": 15,
   "metadata": {},
   "outputs": [],
   "source": [
    "# Cáculo da propagação da órbita para -60 s com relação ao instante atual.\n",
    "X_completo, T_completo = runge_kutta_4o(eq, x0 = np.append(r2, v2), t0 = 0., tf = 8000., dt = 0.1)"
   ]
  },
  {
   "cell_type": "code",
   "execution_count": 16,
   "metadata": {},
   "outputs": [
    {
     "data": {
      "image/png": "[encoded data removed]",
      "text/plain": [
       "<Figure size 864x864 with 1 Axes>"
      ]
     },
     "metadata": {
      "needs_background": "light"
     },
     "output_type": "display_data"
    }
   ],
   "source": [
    "def plotar_orbita_terra(x1, x2, x3):\n",
    "    \n",
    "    # Functions from @Mateen Ulhaq and @karlo\n",
    "    def set_axes_equal(ax: plt.Axes):\n",
    "        \"\"\"Set 3D plot axes to equal scale.\n",
    "        Make axes of 3D plot have equal scale so that spheres appear as\n",
    "        spheres and cubes as cubes.  Required since `ax.axis('equal')`\n",
    "        and `ax.set_aspect('equal')` don't work on 3D.\n",
    "        \"\"\"\n",
    "        limits = np.array([\n",
    "            ax.get_xlim3d(),\n",
    "            ax.get_ylim3d(),\n",
    "            ax.get_zlim3d(),\n",
    "        ])\n",
    "        origin = np.mean(limits, axis = 1)\n",
    "        radius = 0.5*np.max(np.abs(limits[:, 1] - limits[:, 0]))\n",
    "        _set_axes_radius(ax, origin, radius)\n",
    "\n",
    "    def _set_axes_radius(ax, origin, radius):\n",
    "        x, y, z = origin\n",
    "        ax.set_xlim3d([x - radius, x + radius])\n",
    "        ax.set_ylim3d([y - radius, y + radius])\n",
    "        ax.set_zlim3d([z - radius, z + radius])\n",
    "        \n",
    "    # Função para plotar a órbita em 3D\n",
    "    def plotar_orbita(x1, x2, x3, ax):\n",
    "        ax.plot(x1, x2, x3)\n",
    "        ax.set_title('Órbita', fontsize = 16)\n",
    "        ax.set_xlabel('X [km]')\n",
    "        ax.set_ylabel('Y [km]')\n",
    "        ax.set_zlabel('Z [km]')\n",
    "        \n",
    "    # plot earth\n",
    "    r_plot = 6378.\n",
    "    u = np.linspace(0, 2*np.pi, 100)\n",
    "    v = np.linspace(0, np.pi, 100)\n",
    "    x = np.outer(np.cos(u), np.sin(v))*r_plot  # np.outer() -> outer vector product\n",
    "    y = np.outer(np.sin(u), np.sin(v))*r_plot\n",
    "    z = np.outer(np.ones(np.size(u)), np.cos(v))*r_plot\n",
    "\n",
    "    # 3D plot\n",
    "    fig = plt.figure(figsize = (12, 12))\n",
    "    ax = fig.add_subplot(111, projection = '3d')\n",
    "    ax.plot_surface(x, y, z, cmap = 'Blues', alpha = 0.2)\n",
    "    ax.set_box_aspect((1, 1, 1))\n",
    "    set_axes_equal(ax)\n",
    "\n",
    "    # Plotar órbita completa\n",
    "    ax = plotar_orbita(x1, x2, x3, ax)\n",
    "    plt.show()\n",
    "    \n",
    "# Separando em 3 coordenadas os vetores posição resultados da integração\n",
    "x1 = X_completo[:, 0]\n",
    "x2 = X_completo[:, 1]\n",
    "x3 = X_completo[:, 2]\n",
    "plotar_orbita_terra(x1, x2, x3)"
   ]
  },
  {
   "cell_type": "markdown",
   "metadata": {},
   "source": [
    "Agora, o integrador numérico é aplicado para propagar a órbita até o instante 22:01:30 UTC."
   ]
  },
  {
   "cell_type": "code",
   "execution_count": 17,
   "metadata": {},
   "outputs": [],
   "source": [
    "# Cáculo da propagação da órbita para -60 s com relação ao instante atual.\n",
    "X, T = runge_kutta_4o(eq, x0 = np.append(r2, v2), t0 = 0., tf = -60., dt = 0.01)"
   ]
  },
  {
   "cell_type": "markdown",
   "metadata": {},
   "source": [
    "E, por fim, o vetor posição no instante passado desejado é dado por"
   ]
  },
  {
   "cell_type": "code",
   "execution_count": 18,
   "metadata": {},
   "outputs": [
    {
     "data": {
      "text/plain": [
       "array([  397.96812213,  7042.79130285, -3150.77330415])"
      ]
     },
     "execution_count": 18,
     "metadata": {},
     "output_type": "execute_result"
    }
   ],
   "source": [
    "r_passado = np.array([X[-1, 0], X[-1, 1], X[-1, 2]])\n",
    "r_passado"
   ]
  },
  {
   "cell_type": "markdown",
   "metadata": {},
   "source": [
    "O vetor no tempo passado desejado, agora, pode ser combinado com outros dois vetores dos 3 já disponíveis e, assim, aplicando o método de Gibbs, é possível calcular os elementos orbitais utilizando-se do vetor posição no instante passado desejado."
   ]
  },
  {
   "cell_type": "code",
   "execution_count": 19,
   "metadata": {},
   "outputs": [
    {
     "name": "stdout",
     "output_type": "stream",
     "text": [
      "Vetores velocidade (v_passado, v1, v2):\n",
      "[-3.03763963  2.80018081  5.87318471] \n",
      " [-3.04683253  2.61653171  5.95254515] \n",
      " [-3.0536604   2.43072842  6.02732457]\n",
      "a = 7721.0074100266465 km\n",
      "e = 0.0006230197404703242\n",
      "i = 66.06365257207318 graus\n",
      "Omega = 98.2018008805141 graus\n",
      "omega = 165.4003082971817 graus\n",
      "f = 168.09926906340374 graus\n"
     ]
    }
   ],
   "source": [
    "# Cálculo dos vetores de velocidade\n",
    "v_passado, v1, v2 = gibbs(r_passado, r1, r2)\n",
    "\n",
    "# Resultados de velocidade\n",
    "print('Vetores velocidade (v_passado, v1, v2):')\n",
    "print(v_passado, '\\n', v1, '\\n', v2)\n",
    "\n",
    "# Definição dos vetores\n",
    "r = r_passado\n",
    "v = v_passado\n",
    "\n",
    "# Cálculo dos elementos keplerianos\n",
    "a, e, i, Omega, omega, f = elementos_keplerianos(r, v)\n",
    "\n",
    "print('a =', a, 'km')\n",
    "print('e =', e)\n",
    "print('i =', i, 'graus')\n",
    "print('Omega =', Omega, 'graus')\n",
    "print('omega =', omega, 'graus')\n",
    "print('f =', f, 'graus')\n",
    "\n",
    "# Armazenando os elementos orbitais calculados em um array\n",
    "array_elementos_2 = np.array([a, e, i, Omega, omega])"
   ]
  },
  {
   "cell_type": "markdown",
   "metadata": {},
   "source": [
    "Na célula abaixo, com exceção das anomalias verdadeiras, os elementos orbitais calculados com o método 1 (aplicando a equação de Kepler) são comparados com os elementos orbitais calculados com o método 2 (propagando a órbita e reaplicando o método de Gibbs) por meio de um cálculo de erro percentual, do método 2 com relação ao 1, aplicando-se a seguinte fórmula: $e_i = (e_{1,i} - e_{2,i})/e_{1, i}$. O valor $e_i$ é o erro percentual dos i-ésimos elementos, do método 1 e 2, respectivamente $e_{1,i}$ e $e_{2,i}$, dos vetores de elementos keplerianos. Observa-se que o maior erro percentual é da ordem de 10$^{-5}$, portanto os dois métodos utilizados dão aproximadamente os mesmos resultados."
   ]
  },
  {
   "cell_type": "code",
   "execution_count": 20,
   "metadata": {},
   "outputs": [
    {
     "data": {
      "text/plain": [
       "array([2.05765870e-07, 2.98648117e-04, 6.95013078e-06, 2.55054705e-06,\n",
       "       7.04351259e-05])"
      ]
     },
     "execution_count": 20,
     "metadata": {},
     "output_type": "execute_result"
    }
   ],
   "source": [
    "# Cálculo dos erros percentuais entre o método 1 e o método 2.\n",
    "abs(array_elementos - array_elementos_2)/array_elementos"
   ]
  },
  {
   "cell_type": "markdown",
   "metadata": {},
   "source": [
    "O erro percentual da anomalia verdadeira é dado abaixo."
   ]
  },
  {
   "cell_type": "code",
   "execution_count": 21,
   "metadata": {},
   "outputs": [
    {
     "data": {
      "text/plain": [
       "-4.249242711045828e-05"
      ]
     },
     "execution_count": 21,
     "metadata": {},
     "output_type": "execute_result"
    }
   ],
   "source": [
    "(168.06874212533108 - 168.07588407758428)/168.07588407758428"
   ]
  },
  {
   "cell_type": "markdown",
   "metadata": {},
   "source": [
    "Observa-se que também é da ordem de 10$^{-5}$, portanto, aproximadamente os mesmo valores.\n",
    "\n",
    "#### Maior precisão nos resultados\n",
    "\n",
    "A realização deste exercício foi dividida em 3 grupos. Um que determinaria os elementos orbitais a partir de medidas dadas, enquanto os outros dois grupos ficariam encarregados de propagar as órbitas para avaliar os elementos orbitais num instante não dado. Perguntou-se, então, qual das abordagens é mais precisa.\n",
    "\n",
    "Em um debate entre alunos da turma, chegou-se à conclusão de que calcular os elementos orbitais a partir das medidas fornecidas é mais preciso. Isso se deve ao fato de que a propagação orbital realizada segundo o problema de dois corpos, como feito acima, não leva em conta perturbações. No caso deste problema, a órbita é do tipo baixa, tal que o satélite é afetado por perturbações como, por exemplo, o arrasto atmosférico e o albedo terrestre, de forma que a trajetória percorrida pelo corpo em órbita não corresponde com precisão ao que é calculado puramente com o problema de dois corpos. Logo, os elementos orbitais obtidos a partir de medidas são mais confiáveis, desde que as medidas estejam corretas."
   ]
  },
  {
   "cell_type": "markdown",
   "metadata": {},
   "source": [
    "## Problema 3\n",
    "\n",
    "A partir de dados do SCD1, determinar a órbita por meio do método de Gibbs. Mostre:\n",
    "\n",
    "* testes de coplanaridade;\n",
    "* os 3 vetores posição inerciais;\n",
    "* os 3 vetores velocidade.\n",
    "\n",
    "Os dados para o problema foram medidos a partir de uma estação em terra, em Cuiabá, localizada em:\n",
    "\n",
    "* $\\lambda$ = 5,3045834 rad;\n",
    "* $\\phi$ = -0,2714861 rad;\n",
    "* H = 235,6820 m.\n",
    "\n",
    "A órbita tem:\n",
    "\n",
    "* ~750 km de altitude;\n",
    "* i = 25°.\n",
    "\n",
    "Dados:\n",
    "\n",
    "|    Data    | Tempo UTC | Tempo sideral de Greenwich (rad) | Azimute (graus) | Elevação (graus) | Distância (km) |\n",
    "|:----------:|:---------:|:--------------------------:|:---------------:|:----------------:|:--------------:|\n",
    "| 26/04/1997 |  20:12:00 |          2,7552285         |   249,3116283   |     7,6673167    |  2418,5625727  |\n",
    "| 26/04/1997 |  20:18:00 |          2,7814801         |    65,4685213   |    83,6513823    |   750,5571147  |\n",
    "| 26/04/1997 |  20:24:00 |          2,8077317         |    68,3132296   |     6,3571663    |  2567,8253892  |\n",
    "\n",
    "Considere:\n",
    "\n",
    "* $r_{terra}$ =  6378.16 km;\n",
    "* $\\mu$ = 3.986 km$^3$/s$^2$.\n",
    "\n",
    "### Solução\n",
    "\n",
    "A seguir, será criada uma função que se utiliza das anteriores para determinar a órbita a partir de coordenadas topocêntricas da estação de medição e medidas do corpo em órbita tomadas pela estação."
   ]
  },
  {
   "cell_type": "code",
   "execution_count": 22,
   "metadata": {},
   "outputs": [],
   "source": [
    "# Função para determinar a órbita a partir de medidas topocêntricas\n",
    "def determinar_orbita(lamb, phi, R_estacao, \n",
    "                      theta_g_array, A_array, h_array, rho_array, \n",
    "                      relatorio = False, normalizador = 36000, tol = 1e-6):\n",
    "    '''\n",
    "    Esta função determina uma órbita a partir de 3 observações de uma estação \n",
    "    em solo.\n",
    "    Entrada: lamb (longitude GET, graus), phi (latitude GET, graus), R_estacao \n",
    "    (raio da estação, km), \n",
    "             theta_g_array (lista com os 3 tempos siderais de Greenwich, graus), \n",
    "             A_array (lista com os 3 azimutes, graus), h_array (lista com as 3 \n",
    "             elevações, km), \n",
    "             rho_array (raio do satélite medido da estação, km), \n",
    "             relatorio (variável booleana para imprimir ou não os resultados,\n",
    "             padrão False), \n",
    "             normalizador (variável para normalização, padrão 36000), tol\n",
    "             (valor abaixo te tol é considerado 0, 1e-6)\n",
    "    Saída: orbita (dicionário contendo os vetores posição, velocide, teste de  \n",
    "    coplanaride e elementos orbitais)\n",
    "    '''\n",
    "\n",
    "    # Criar listas vazias para armazenar resultados\n",
    "    xg_lista = []\n",
    "    xi_lista = []\n",
    "\n",
    "    # Calcular as coordenadas no sistem GET e GEI\n",
    "    for i in range(3):\n",
    "        xg = topo2get(lamb = lamb, \n",
    "                      phi = phi, \n",
    "                      R_estacao = R_estacao, \n",
    "                      A = A_array[i], \n",
    "                      h = h_array[i], \n",
    "                      rho = rho_array[i])\n",
    "        xi = get2gec(xg = xg, \n",
    "                     theta_g = theta_g_array[i])\n",
    "        xg_lista.append(xg.reshape(-1)) # o reshape(-1) transforma de vetor coluna para vetor linha\n",
    "        xi_lista.append(xi.reshape(-1))\n",
    "\n",
    "\n",
    "    # Determinar a órbita com o método de Gibbs\n",
    "    v1, v2, v3, coplanaridade = gibbs(r1 = xi_lista[0], \n",
    "                                      r2 = xi_lista[1], \n",
    "                                      r3 = xi_lista[2],\n",
    "                                      tol = tol,\n",
    "                                      normalizador = normalizador,\n",
    "                                      cop = True)\n",
    "\n",
    "    # Vetores posição e velocidade 2\n",
    "    r = xi_lista[1]\n",
    "    v = v2\n",
    "\n",
    "    # Determinar os elementos keplerianos a partir dos vetores 2 de posição e velocidade\n",
    "    a, e, i, Omega, omega, f = elementos_keplerianos(r, v)\n",
    "\n",
    "    # Variável com os resultados da órbita determinada\n",
    "    orbita = {\n",
    "           'r1 [km]' : xi_lista[0],\n",
    "           'r2 [km]' : xi_lista[1],\n",
    "           'r3 [km]' : xi_lista[2],\n",
    "           'r1 norma [km]' : np.linalg.norm(xi_lista[0]),\n",
    "           'r2 norma [km]' : np.linalg.norm(xi_lista[1]),\n",
    "           'r3 norma [km]' : np.linalg.norm(xi_lista[2]),\n",
    "           'coplanaridade' : coplanaridade,\n",
    "           'v1 [km/s]' : v1,\n",
    "           'v2 [km/s]' : v2,\n",
    "           'v3 [km/s]' : v3,\n",
    "           'v1 norma [km/s]' : np.linalg.norm(v1),\n",
    "           'v2 norma [km/s]' : np.linalg.norm(v2),\n",
    "           'v3 norma [km/s]' : np.linalg.norm(v3),\n",
    "           'a [km]' : a,\n",
    "           'e' : e,\n",
    "           'i [graus]' : i,\n",
    "           'Omega [graus]' : Omega,\n",
    "           'omega [graus]' : omega,\n",
    "           'f [graus]' : f\n",
    "    }\n",
    "\n",
    "    if relatorio:\n",
    "        display(orbita)\n",
    "\n",
    "    return orbita"
   ]
  },
  {
   "cell_type": "markdown",
   "metadata": {},
   "source": [
    "Então, as variáveis dos dados são criadas e a função é executada."
   ]
  },
  {
   "cell_type": "code",
   "execution_count": 23,
   "metadata": {},
   "outputs": [
    {
     "data": {
      "text/plain": [
       "{'r1 [km]': array([  922.04804086,  6555.38498125, -2612.77226931]),\n",
       " 'r2 [km]': array([-1654.21645358,  6671.0261101 , -1877.29314028]),\n",
       " 'r3 [km]': array([-3997.09436927,  5844.37938397,  -878.17943278]),\n",
       " 'r1 norma [km]': 7116.868958557048,\n",
       " 'r2 norma [km]': 7124.833399557955,\n",
       " 'r3 norma [km]': 7134.755279392958,\n",
       " 'coplanaridade': -7.595392159535919e-05,\n",
       " 'v1 [km/s]': array([-7.14154555,  1.6492211 ,  1.56787158]),\n",
       " 'v2 [km/s]': array([-6.99567013, -1.01315678,  2.46753352]),\n",
       " 'v3 [km/s]': array([-5.86474049, -3.52240832,  3.01603524]),\n",
       " 'v1 norma [km/s]': 7.495320163345153,\n",
       " 'v2 norma [km/s]': 7.48696259383893,\n",
       " 'v3 norma [km/s]': 7.4765640487926035,\n",
       " 'a [km]': 7138.786957569976,\n",
       " 'e': 0.003920267873032652,\n",
       " 'i [graus]': 25.002403573858626,\n",
       " 'Omega [graus]': 139.77789191382163,\n",
       " 'omega [graus]': 261.1467669196737,\n",
       " 'f [graus]': 60.28804297185447}"
      ]
     },
     "metadata": {},
     "output_type": "display_data"
    }
   ],
   "source": [
    "# Parâmetros\n",
    "mu = 3.986e5 # km^3/s^2, parâmetro gravitacional\n",
    "r_terra = 6378.16 # km, raio da Terra\n",
    "\n",
    "# Coordenadas da estação no sistema GET\n",
    "lamb = np.rad2deg(5.3045834) # graus, longitude da estação\n",
    "phi = np.rad2deg(-0.2714861) # graus, latitude da estação\n",
    "h_estacao = 235.6820/1000 # km, altitude da estação com relação ao nível do mar\n",
    "R_estacao = r_terra + h_estacao\n",
    "\n",
    "# Vetor com os tempos siderais de Greenwich, graus\n",
    "theta_g_array = np.array([np.rad2deg(2.7552285), np.rad2deg(2.7814801), np.rad2deg(2.8077317)])\n",
    "\n",
    "# Vetor com os azimutes, graus\n",
    "A_array = np.array([249.3116283, 65.4685213, 68.3132296])\n",
    "\n",
    "# Vetor com as elevações, graus\n",
    "h_array = np.array([7.6673167, 83.6513823, 6.3571663])\n",
    "\n",
    "# Vetor com as distâncias, km\n",
    "rho_array = np.array([2418562.5727477/1000, 750557.1146977/1000, 2567825.3892272/1000])\n",
    "\n",
    "# Determinar órbita\n",
    "orbita = determinar_orbita(lamb, phi, R_estacao, \n",
    "                           theta_g_array, A_array, h_array, rho_array, \n",
    "                           relatorio = True, normalizador = 36000, tol = 1e-4)"
   ]
  },
  {
   "cell_type": "markdown",
   "metadata": {},
   "source": [
    "Para uma órbita circular de 750 km de altitude (vide o enunciado), a velocidade média orbital fica em torno de 7,5 km/s, tal que as velocidades obtidas com o método acima são coerentes (observe as normas das velocidades). O mesmo pode ser dito das normas dos vetores posição. Foi obtida a mesma inclinação aproximada que a dada no enunciado. Portanto, o método implementado satisfaz os requisitos do exercício e é funcional.\n",
    "\n",
    "#### Questão bônus\n",
    "\n",
    "Foi proposto que houve uma recalibração de +0,01 grau nas medidas de elevação. Disso, como seria possível corrigir as medidas sem que fosse necessário reefetuar os cálculos realizados para a determinação de órbita? \n",
    "\n",
    "Para que uma resposta fosse encontrada, houve uma discussão sobre o tema entre alguns dos alunos e alunas da turma. Foi concluído que seria possível calcular um vetor de erro para cada um dos raios vetores e adicionar o erro às medidas finais para se efetuar a correção. O método para cálculo dos vetores de erro consistiria em determinar as coordenadas topocêntricas para um vetor posição calculado com $rho$, $A$ e $h$ = 0,01 grau. Essas coordenadas seriam então transformadas do sistema horizontal topocêntrico para o sistema equatorial inercial por meio das rotações já conhecidas. Por fim, os valores de erro poderiam ser somados aos vetores posição calculados.  \n",
    "\n",
    "## Referências\n",
    "\n",
    "[1] Kuga, H. Notas de aula de Introdução à Mecânica Celeste. Instituto Nacional de Pesquisas Espaciais, 2021.\n",
    "\n",
    "[2] Kuga, h. Carrara, V. Rao, K. R. Introdução à Mecânica Orbital. Instituto Nacional de Pesquisas Espaciais, 2ed, 2012.\n",
    "\n",
    "[3] Curtis, H. Orbital Mechanics for Engineering Students. Elsevier, 2005."
   ]
  },
  {
   "cell_type": "markdown",
   "metadata": {},
   "source": [
    "# Prova"
   ]
  },
  {
   "cell_type": "markdown",
   "metadata": {},
   "source": [
    "## Prova - Ex. Evandro"
   ]
  },
  {
   "cell_type": "code",
   "execution_count": 42,
   "metadata": {},
   "outputs": [],
   "source": [
    "r1 = 9743.42458110\n",
    "r2 = 10439.80036117\n",
    "r3 = 751.46335710\n",
    "\n",
    "v1 = -3.88596154\n",
    "v2 = 3.73224056\n",
    "v3 = 0.38060437\n",
    "\n",
    "R = np.array([r1, r2, r3])\n",
    "V = np.array([v1, v2, v3])"
   ]
  },
  {
   "cell_type": "code",
   "execution_count": 43,
   "metadata": {},
   "outputs": [
    {
     "name": "stdout",
     "output_type": "stream",
     "text": [
      "a = 15000.00000776214 km\n",
      "e = 0.050000000531860454\n",
      "i = 4.999998124620887 graus\n",
      "Omega = 9.999998490964666 graus\n",
      "omega = 14.999995012920028 graus\n",
      "f = 22.081102363554663 graus\n"
     ]
    }
   ],
   "source": [
    "# Cálculo dos elementos keplerianos\n",
    "a, e, i, Omega, omega, f = elementos_keplerianos(R, V)\n",
    "\n",
    "# Plot dos valores calculados para os elementos orbitais\n",
    "print('a =', a, 'km')\n",
    "print('e =', e)\n",
    "print('i =', i, 'graus')\n",
    "print('Omega =', Omega, 'graus')\n",
    "print('omega =', omega, 'graus')\n",
    "print('f =', f, 'graus')"
   ]
  },
  {
   "cell_type": "code",
   "execution_count": 44,
   "metadata": {},
   "outputs": [],
   "source": [
    "r = np.linalg.norm(R)\n",
    "v = np.linalg.norm(V)\n",
    "mu = 398600.64"
   ]
  },
  {
   "cell_type": "code",
   "execution_count": 46,
   "metadata": {},
   "outputs": [
    {
     "data": {
      "text/plain": [
       "15000.00000776214"
      ]
     },
     "execution_count": 46,
     "metadata": {},
     "output_type": "execute_result"
    }
   ],
   "source": [
    "a = (r*mu)/(2*mu - r*v**2)\n",
    "a"
   ]
  },
  {
   "cell_type": "code",
   "execution_count": 47,
   "metadata": {},
   "outputs": [
    {
     "data": {
      "text/plain": [
       "array([ 1168.79161867, -6628.54767874, 76933.46710367])"
      ]
     },
     "execution_count": 47,
     "metadata": {},
     "output_type": "execute_result"
    }
   ],
   "source": [
    "h = np.cross(R, V)\n",
    "h"
   ]
  },
  {
   "cell_type": "code",
   "execution_count": 50,
   "metadata": {},
   "outputs": [
    {
     "data": {
      "text/plain": [
       "38613.67011424924"
      ]
     },
     "execution_count": 50,
     "metadata": {},
     "output_type": "execute_result"
    }
   ],
   "source": [
    "dAdt = np.linalg.norm(h)/2\n",
    "dAdt"
   ]
  },
  {
   "cell_type": "code",
   "execution_count": 51,
   "metadata": {},
   "outputs": [
    {
     "data": {
      "text/plain": [
       "0.0003436624698013816"
      ]
     },
     "execution_count": 51,
     "metadata": {},
     "output_type": "execute_result"
    }
   ],
   "source": [
    "n = sqrt(mu/a**3)\n",
    "n"
   ]
  },
  {
   "cell_type": "code",
   "execution_count": 56,
   "metadata": {},
   "outputs": [
    {
     "data": {
      "text/plain": [
       "0.050000000531860454"
      ]
     },
     "execution_count": 56,
     "metadata": {},
     "output_type": "execute_result"
    }
   ],
   "source": [
    "e = ((np.dot(R, V)/(n*a**2))**2 + (1 - r/a)**2)**(1/2)\n",
    "e"
   ]
  },
  {
   "cell_type": "code",
   "execution_count": 69,
   "metadata": {},
   "outputs": [
    {
     "data": {
      "text/plain": [
       "21.02794423016649"
      ]
     },
     "execution_count": 69,
     "metadata": {},
     "output_type": "execute_result"
    }
   ],
   "source": [
    "u = atan((np.dot(R, V)/(n*a**2))/(1 - r/a))\n",
    "u*180/pi"
   ]
  },
  {
   "cell_type": "code",
   "execution_count": 73,
   "metadata": {},
   "outputs": [
    {
     "data": {
      "text/plain": [
       "22.08110236355464"
      ]
     },
     "execution_count": 73,
     "metadata": {},
     "output_type": "execute_result"
    }
   ],
   "source": [
    "u2f(u*180/pi, e)"
   ]
  },
  {
   "cell_type": "code",
   "execution_count": 75,
   "metadata": {},
   "outputs": [
    {
     "data": {
      "text/plain": [
       "0.38538793871393084"
      ]
     },
     "execution_count": 75,
     "metadata": {},
     "output_type": "execute_result"
    }
   ],
   "source": [
    "f*pi/180"
   ]
  },
  {
   "cell_type": "code",
   "execution_count": 77,
   "metadata": {},
   "outputs": [
    {
     "data": {
      "text/plain": [
       "5.400533752796084"
      ]
     },
     "execution_count": 77,
     "metadata": {},
     "output_type": "execute_result"
    }
   ],
   "source": [
    "p = a*(1 - e**2)\n",
    "vt = sqrt(mu/p)*(1 + e*cos(f*pi/180))\n",
    "vt"
   ]
  },
  {
   "cell_type": "code",
   "execution_count": 80,
   "metadata": {},
   "outputs": [
    {
     "data": {
      "text/plain": [
       "19.99999138098692"
      ]
     },
     "execution_count": 80,
     "metadata": {},
     "output_type": "execute_result"
    }
   ],
   "source": [
    "M = u - e*sin(u)\n",
    "M*180/pi"
   ]
  },
  {
   "cell_type": "code",
   "execution_count": 85,
   "metadata": {},
   "outputs": [
    {
     "data": {
      "text/plain": [
       "0.08726642986817623"
      ]
     },
     "execution_count": 85,
     "metadata": {},
     "output_type": "execute_result"
    }
   ],
   "source": [
    "i = acos(h[2]/np.linalg.norm(h))\n",
    "i"
   ]
  },
  {
   "cell_type": "code",
   "execution_count": 88,
   "metadata": {},
   "outputs": [
    {
     "data": {
      "text/plain": [
       "0.1745328988617981"
      ]
     },
     "execution_count": 88,
     "metadata": {},
     "output_type": "execute_result"
    }
   ],
   "source": [
    "Omeg = atan(h[0]/(-h[1]))\n",
    "Omeg"
   ]
  },
  {
   "cell_type": "code",
   "execution_count": 92,
   "metadata": {},
   "outputs": [
    {
     "data": {
      "text/plain": [
       "1015.7224912294047"
      ]
     },
     "execution_count": 92,
     "metadata": {},
     "output_type": "execute_result"
    }
   ],
   "source": [
    "t = M/n\n",
    "t"
   ]
  },
  {
   "cell_type": "code",
   "execution_count": 97,
   "metadata": {},
   "outputs": [
    {
     "data": {
      "text/plain": [
       "18283.012721205574"
      ]
     },
     "execution_count": 97,
     "metadata": {},
     "output_type": "execute_result"
    }
   ],
   "source": [
    "T = sqrt(4*(pi**2)*(a**3)/mu)\n",
    "T"
   ]
  },
  {
   "cell_type": "code",
   "execution_count": 99,
   "metadata": {},
   "outputs": [
    {
     "data": {
      "text/plain": [
       "17267.29022997617"
      ]
     },
     "execution_count": 99,
     "metadata": {},
     "output_type": "execute_result"
    }
   ],
   "source": [
    "tf = T - t\n",
    "tf"
   ]
  },
  {
   "cell_type": "code",
   "execution_count": 101,
   "metadata": {},
   "outputs": [
    {
     "data": {
      "text/plain": [
       "14249.999999396128"
      ]
     },
     "execution_count": 101,
     "metadata": {},
     "output_type": "execute_result"
    }
   ],
   "source": [
    "rp = a*(1 - e**2)/(1 + e*cos(0))\n",
    "rp"
   ]
  },
  {
   "cell_type": "code",
   "execution_count": 102,
   "metadata": {},
   "outputs": [
    {
     "data": {
      "text/plain": [
       "5.419462472404993"
      ]
     },
     "execution_count": 102,
     "metadata": {},
     "output_type": "execute_result"
    }
   ],
   "source": [
    "velip = sqrt(mu*(2/rp - 1/a))\n",
    "velip"
   ]
  },
  {
   "cell_type": "code",
   "execution_count": 103,
   "metadata": {},
   "outputs": [
    {
     "data": {
      "text/plain": [
       "8.99688554312296"
      ]
     },
     "execution_count": 103,
     "metadata": {},
     "output_type": "execute_result"
    }
   ],
   "source": [
    "voo = 5.\n",
    "vhip = sqrt(voo**2 + 2*mu/rp)\n",
    "vhip"
   ]
  },
  {
   "cell_type": "code",
   "execution_count": 104,
   "metadata": {},
   "outputs": [
    {
     "data": {
      "text/plain": [
       "3.577423070717968"
      ]
     },
     "execution_count": 104,
     "metadata": {},
     "output_type": "execute_result"
    }
   ],
   "source": [
    "deltaV = vhip - velip\n",
    "deltaV"
   ]
  },
  {
   "cell_type": "markdown",
   "metadata": {},
   "source": [
    "## Prova - Ex. Hélio"
   ]
  },
  {
   "cell_type": "code",
   "execution_count": 105,
   "metadata": {},
   "outputs": [],
   "source": [
    "def calc(rho):\n",
    "    return np.array([[6378.], [0], [0]]) + np.array([[0, 0, 1], [0, 1, 0], [-1, 0, 0]]).dot(rho)"
   ]
  },
  {
   "cell_type": "code",
   "execution_count": 110,
   "metadata": {},
   "outputs": [],
   "source": [
    "rho1 = 3182.687544*np.array([[0], [-1], [0]])\n",
    "rho2 = 750.*np.array([[0], [0], [1]])\n",
    "rho3 = 3182.687544*np.array([[0], [1], [0]])"
   ]
  },
  {
   "cell_type": "code",
   "execution_count": 117,
   "metadata": {},
   "outputs": [],
   "source": [
    "r1g = calc(rho1)"
   ]
  },
  {
   "cell_type": "code",
   "execution_count": 118,
   "metadata": {},
   "outputs": [],
   "source": [
    "r2g = calc(rho2)"
   ]
  },
  {
   "cell_type": "code",
   "execution_count": 119,
   "metadata": {},
   "outputs": [],
   "source": [
    "r3g = calc(rho3)"
   ]
  },
  {
   "cell_type": "code",
   "execution_count": 132,
   "metadata": {},
   "outputs": [],
   "source": [
    "r1i = get2gec(r1g, 358.156664)"
   ]
  },
  {
   "cell_type": "code",
   "execution_count": 133,
   "metadata": {},
   "outputs": [],
   "source": [
    "r2i = get2gec(r2g, 0.)"
   ]
  },
  {
   "cell_type": "code",
   "execution_count": 134,
   "metadata": {},
   "outputs": [],
   "source": [
    "r3i = get2gec(r3g, 1.843336)"
   ]
  },
  {
   "cell_type": "code",
   "execution_count": 139,
   "metadata": {},
   "outputs": [],
   "source": [
    "r1i = r1i.reshape(-1)\n",
    "r2i = r2i.reshape(-1)\n",
    "r3i = r3i.reshape(-1)"
   ]
  },
  {
   "cell_type": "code",
   "execution_count": 141,
   "metadata": {},
   "outputs": [
    {
     "data": {
      "text/plain": [
       "array([ 6272.32283243, -3386.19997763,     0.        ])"
      ]
     },
     "execution_count": 141,
     "metadata": {},
     "output_type": "execute_result"
    }
   ],
   "source": [
    "r1i"
   ]
  },
  {
   "cell_type": "code",
   "execution_count": 142,
   "metadata": {},
   "outputs": [
    {
     "data": {
      "text/plain": [
       "array([7128.,    0.,    0.])"
      ]
     },
     "execution_count": 142,
     "metadata": {},
     "output_type": "execute_result"
    }
   ],
   "source": [
    "r2i"
   ]
  },
  {
   "cell_type": "code",
   "execution_count": 143,
   "metadata": {},
   "outputs": [
    {
     "data": {
      "text/plain": [
       "array([6272.32283243, 3386.19997763,    0.        ])"
      ]
     },
     "execution_count": 143,
     "metadata": {},
     "output_type": "execute_result"
    }
   ],
   "source": [
    "r3i"
   ]
  },
  {
   "cell_type": "code",
   "execution_count": 140,
   "metadata": {},
   "outputs": [
    {
     "name": "stdout",
     "output_type": "stream",
     "text": [
      "D0 = 0.0 e N0 = 0.0. D ou N é 0!\n",
      "D1 = 0.0 e N1 = 0.0. D ou N é 0!\n"
     ]
    },
    {
     "data": {
      "text/plain": [
       "(array([3.55246423, 6.58029727, 0.        ]),\n",
       " array([2.79815990e-25, 7.47798865e+00, 0.00000000e+00]),\n",
       " array([-3.55246423,  6.58029727,  0.        ]),\n",
       " 0.0)"
      ]
     },
     "execution_count": 140,
     "metadata": {},
     "output_type": "execute_result"
    }
   ],
   "source": [
    "gibbs(r1i, r2i, r3i, cop = True)"
   ]
  }
 ],
 "metadata": {
  "kernelspec": {
   "display_name": "Python 3",
   "language": "python",
   "name": "python3"
  },
  "language_info": {
   "codemirror_mode": {
    "name": "ipython",
    "version": 3
   },
   "file_extension": ".py",
   "mimetype": "text/x-python",
   "name": "python",
   "nbconvert_exporter": "python",
   "pygments_lexer": "ipython3",
   "version": "3.8.5"
  }
 },
 "nbformat": 4,
 "nbformat_minor": 1
}
